{
 "cells": [
  {
   "cell_type": "code",
   "execution_count": 9,
   "metadata": {},
   "outputs": [],
   "source": [
    "import pygame,sys,time\n",
    "from pygame.locals import *\n",
    "from constants import *\n",
    "from random import *\n",
    "\n",
    "import random\n",
    "import math"
   ]
  },
  {
   "cell_type": "code",
   "execution_count": 10,
   "metadata": {},
   "outputs": [
    {
     "data": {
      "text/plain": [
       "(5, 0)"
      ]
     },
     "execution_count": 10,
     "metadata": {},
     "output_type": "execute_result"
    }
   ],
   "source": [
    "pygame.init()"
   ]
  },
  {
   "cell_type": "code",
   "execution_count": 11,
   "metadata": {},
   "outputs": [],
   "source": [
    "surface = pygame.display.set_mode((400,500),0,32)\n",
    "pygame.display.set_caption(\"2048 Game\")\n",
    "\n",
    "font = pygame.font.SysFont(\"monospace\",50)\n",
    "fontofscore = pygame.font.SysFont(\"monospace\",30)"
   ]
  },
  {
   "cell_type": "code",
   "execution_count": 12,
   "metadata": {},
   "outputs": [],
   "source": [
    "sizeofboard = 4\n",
    "totalpoints = 0\n",
    "defaultscore = 2"
   ]
  },
  {
   "cell_type": "code",
   "execution_count": 13,
   "metadata": {},
   "outputs": [],
   "source": [
    "tileofmatrix = [[0,0,0,0],[0,0,0,0],[0,0,0,0],[0,0,0,0]]\n",
    "undomatrix = []\n",
    "black = (0,0,0)\n",
    "red = (255,0,0)\n",
    "orange = (255,152,0)\n",
    "deeporange = (255,87,34)\n",
    "brown = (121,85,72)\n",
    "green = (0,128,0)\n",
    "lgreen = (139,195,74)\n",
    "teal = (0,150,136)\n",
    "blue  = (33,150,136)\n",
    "purple = (156,39,176)\n",
    "pink = (234,30,99)\n",
    "deepurple = (103,58,183)"
   ]
  },
  {
   "cell_type": "code",
   "execution_count": 14,
   "metadata": {},
   "outputs": [],
   "source": [
    "colordict = {\n",
    "    0:black,\n",
    "    2:red,\n",
    "    4:green,\n",
    "    8:purple,\n",
    "    16:deepurple,\n",
    "    32:deeporange,\n",
    "    64:teal,\n",
    "    128:lgreen,\n",
    "    256:pink,\n",
    "    512:orange,\n",
    "    1024:black,\n",
    "    2048:brown\n",
    "}"
   ]
  },
  {
   "cell_type": "code",
   "execution_count": 15,
   "metadata": {},
   "outputs": [],
   "source": [
    "def getcolor(i):\n",
    "    return colordict[i]\n",
    "def mainfunction(fromLoaded = False):\n",
    "    \n",
    "    if not fromLoaded:\n",
    "        placerandomtile()\n",
    "        placerandomtile()\n",
    "    printmatrix()\n",
    "\n",
    "\n",
    "    while True:\n",
    "        for event in pygame.event.get():\n",
    "            if event.type == QUIT:\n",
    "                pygame.quit()\n",
    "                sys.exit()\n",
    "            \n",
    "            if checkIfCanGo() == True:\n",
    "                if event.type == KEYDOWN:\n",
    "                    if isArrow(event.key):\n",
    "                        rotations = getrotations(event.key)\n",
    "                        addToUndo()\n",
    "                        for i in range(0,rotations):\n",
    "                            rotatematrixclockwise()\n",
    "\n",
    "                        if canmove():\n",
    "                            movetiles()\n",
    "                            mergetiles()\n",
    "                            placerandomtile()\n",
    "\n",
    "                        for j in range(0,(4-rotations)%4):\n",
    "                            rotatematrixclockwise()\n",
    "                            \n",
    "                        printmatrix()\n",
    "            else: \n",
    "                gameover()\n",
    "\n",
    "            if event.type == KEYDOWN:\n",
    "                global sizeofboard\n",
    "\n",
    "                if event.key == pygame.K_r:\n",
    "                 \n",
    "                    reset()\n",
    "                if 50<event.key and 56 > event.key:\n",
    "                    \n",
    "                    sizeofboard = event.key - 48\n",
    "                    reset()\n",
    "                if event.key == pygame.K_s:\n",
    "                   \n",
    "                    savegame()\n",
    "                elif event.key == pygame.K_l:\n",
    "                    loadgame()\n",
    "                    \n",
    "                elif event.key == pygame.K_u:\n",
    "                    undo()\n",
    "                   \n",
    "        pygame.display.update()"
   ]
  },
  {
   "cell_type": "code",
   "execution_count": 16,
   "metadata": {},
   "outputs": [],
   "source": [
    "def canmove():\n",
    "    for i in range(0,sizeofboard):\n",
    "        for j in range(1,sizeofboard):\n",
    "            if tileofmatrix[i][j-1] == 0 and tileofmatrix[i][j] > 0:\n",
    "                return True \n",
    "            elif (tileofmatrix[i][j-1] == tileofmatrix[i][j]) and tileofmatrix[i][j-1] != 0:\n",
    "                return True\n",
    "    return False"
   ]
  },
  {
   "cell_type": "code",
   "execution_count": 17,
   "metadata": {},
   "outputs": [],
   "source": [
    "def movetiles():\n",
    "    for i in range(0,sizeofboard):\n",
    "        for j in range(0,sizeofboard-1):\n",
    "            \n",
    "            while tileofmatrix[i][j] == 0 and sum(tileofmatrix[i][j:]) > 0:\n",
    "                for k in range(j,sizeofboard-1):\n",
    "                   tileofmatrix[i][k] = tileofmatrix[i][k+1]\n",
    "                tileofmatrix[i][sizeofboard-1] = 0"
   ]
  },
  {
   "cell_type": "code",
   "execution_count": 18,
   "metadata": {},
   "outputs": [],
   "source": [
    "def mergetiles():\n",
    "    global totalpoints\n",
    "\n",
    "    for i in range(0,sizeofboard):\n",
    "        for k in range(0,sizeofboard-1):\n",
    "            if tileofmatrix[i][k] == tileofmatrix[i][k+1] and tileofmatrix[i][k] != 0:\n",
    "                tileofmatrix[i][k] = tileofmatrix[i][k]*2\n",
    "                tileofmatrix[i][k+1] = 0 \n",
    "                totalpoints+= tileofmatrix[i][k]\n",
    "                movetiles()"
   ]
  },
  {
   "cell_type": "code",
   "execution_count": 19,
   "metadata": {},
   "outputs": [],
   "source": [
    "def placerandomtile():\n",
    "    c = 0\n",
    "    for i in range(0,sizeofboard):\n",
    "        for j in range(0,sizeofboard):\n",
    "            if tileofmatrix[i][j] == 0:\n",
    "                c += 1\n",
    "    \n",
    "    k = floor(random() * sizeofboard* sizeofboard)\n",
    "    print(\"click\")\n",
    "\n",
    "    while tileofmatrix[floor(k/sizeofboard)][k%sizeofboard] != 0:\n",
    "        k = floor(random() * sizeofboard * sizeofboard)\n",
    "\n",
    "    tileofmatrix[floor(k/sizeofboard)][k%sizeofboard] = 2\n"
   ]
  },
  {
   "cell_type": "code",
   "execution_count": 20,
   "metadata": {},
   "outputs": [],
   "source": [
    "def floor(n):\n",
    "    return int(n - (n % 1 ))"
   ]
  },
  {
   "cell_type": "code",
   "execution_count": 21,
   "metadata": {},
   "outputs": [],
   "source": [
    "def printmatrix():\n",
    "        surface.fill(black)\n",
    "        global sizeofboard\n",
    "        global totalpoints\n",
    "\n",
    "        for i in range(0,sizeofboard):\n",
    "            for j in range(0,sizeofboard):\n",
    "                pygame.draw.rect(surface,getcolor(tileofmatrix[i][j]),(i*(400/sizeofboard),j*(400/sizeofboard)+100,400/sizeofboard,400/sizeofboard))\n",
    "                label = font.render(str(tileofmatrix[i][j]),1,(255,255,255))\n",
    "                label2 = fontofscore.render(\"YourScore:\"+str(totalpoints),1,(255,255,255))\n",
    "                surface.blit(label,(i*(400/sizeofboard)+30,j*(400/sizeofboard)+130))\n",
    "                surface.blit(label2,(10,20))"
   ]
  },
  {
   "cell_type": "code",
   "execution_count": 22,
   "metadata": {},
   "outputs": [],
   "source": [
    "def checkIfCanGo():\n",
    "    for i in range(0,sizeofboard ** 2): \n",
    "        if tileofmatrix[floor(i/sizeofboard)][i%sizeofboard] == 0:\n",
    "            return True\n",
    "    \n",
    "    for i in range(0,sizeofboard):\n",
    "        for j in range(0,sizeofboard-1):\n",
    "            if tileofmatrix[i][j] == tileofmatrix[i][j+1]:\n",
    "                return True\n",
    "            elif tileofmatrix[j][i] ==tileofmatrix[j+1][i]:\n",
    "                return True\n",
    "    return False"
   ]
  },
  {
   "cell_type": "code",
   "execution_count": 23,
   "metadata": {},
   "outputs": [],
   "source": [
    "def convertToLinearMatrix():\n",
    "\n",
    "    mat = []\n",
    "    for i in range(0,sizeofboard ** 2):\n",
    "        mat.append(tileofmatrix[floor(i/sizeofboard)][i%sizeofboard])\n",
    "\n",
    "    mat.append(totalpoints)\n",
    "    return mat"
   ]
  },
  {
   "cell_type": "code",
   "execution_count": 24,
   "metadata": {},
   "outputs": [],
   "source": [
    "def addToUndo():\n",
    "    undomatrix.append(convertToLinearMatrix())"
   ]
  },
  {
   "cell_type": "code",
   "execution_count": 25,
   "metadata": {},
   "outputs": [],
   "source": [
    "def rotatematrixclockwise():\n",
    "    for i in range(0,int(sizeofboard/2)):\n",
    "        for k in range(i,sizeofboard- i- 1):\n",
    "            temp1 = tileofmatrix[i][k]\n",
    "            temp2 = tileofmatrix[sizeofboard - 1 - k][i]\n",
    "            temp3 = tileofmatrix[sizeofboard- 1 - i][sizeofboard - 1 - k]\n",
    "            temp4 = tileofmatrix[k][sizeofboard- 1 - i]\n",
    "\n",
    "            tileofmatrix[sizeofboard- 1 - k][i] = temp1\n",
    "            tileofmatrix[sizeofboard - 1 - i][sizeofboard - 1 - k] = temp2\n",
    "            tileofmatrix[k][sizeofboard - 1 - i] = temp3\n",
    "            tileofmatrix[i][k] = temp4"
   ]
  },
  {
   "cell_type": "code",
   "execution_count": 26,
   "metadata": {},
   "outputs": [],
   "source": [
    "def gameover():\n",
    "    global totalpoints\n",
    "\n",
    "    surface.fill(black)\n",
    "\n",
    "    label = font.render(\"gameover\",1,(255,255,255))\n",
    "    label2 =font.render(\"score : \"+str(totalpoints),1,(255,255,255))\n",
    "    label3 = font.render(\"press 'R' to play again\",1,(255,255,255))\n",
    "\n",
    "    surface.blit(label,(50,100))\n",
    "    surface.blit(label2,(50,200))\n",
    "    surface.blit(label3,(50,300))"
   ]
  },
  {
   "cell_type": "code",
   "execution_count": 27,
   "metadata": {},
   "outputs": [],
   "source": [
    "def reset():\n",
    "    global totalpoints\n",
    "    global tileofmatrix\n",
    "\n",
    "    totalpoints= 0\n",
    "    surface.fill(black)\n",
    "    tileofmatrix = [[0 for i in range(0,sizeofboard)] for j in range(0,sizeofboard) ]\n",
    "    mainfunction()"
   ]
  },
  {
   "cell_type": "code",
   "execution_count": 28,
   "metadata": {},
   "outputs": [],
   "source": [
    "def savegame():\n",
    "    f = open(\"savedata\",\"w\")\n",
    "\n",
    "    line1 = \" \".join([str(tileofmatrix[floor(x/sizeofboard)][x%sizeofboard]) for x in range(0,sizeofboard ** 2)])\n",
    "    f.write(line1+\"\\n\")\n",
    "    f.write(str(sizeofboard)+\"\\n\")\n",
    "    f.write(str(totalpoints))\n",
    "    f.close"
   ]
  },
  {
   "cell_type": "code",
   "execution_count": 29,
   "metadata": {},
   "outputs": [],
   "source": [
    "def undo():\n",
    "    if len(undomatrix) > 0:\n",
    "        mat = undomatrix.pop()\n",
    "\n",
    "        for i in range(0,sizeofboard ** 2):\n",
    "            tileofmatrix[floor(i/sizeofboard)][i%sizeofboard] = mat[i]\n",
    "        global totalpoints\n",
    "        totalpoints = mat[sizeofboard ** 2]\n",
    "\n",
    "        printmatrix()"
   ]
  },
  {
   "cell_type": "code",
   "execution_count": 30,
   "metadata": {},
   "outputs": [],
   "source": [
    "def loadgame():\n",
    "    global totalpoints\n",
    "    global sizeofboard\n",
    "    global tilematrix\n",
    "\n",
    "    f = open(\"savedata\",\"r\")\n",
    "\n",
    "    mat = (f.readline()).split(' ',sizeofboard ** 2)\n",
    "    sizeofboard = int(f.readline())\n",
    "    totalpoints= int(f.readline())\n",
    "\n",
    "    for i in range(0,sizeofboard ** 2):\n",
    "        tileofmatrix[floor(i/sizeofboard)][i%sizeofboard] = int(mat[i])\n",
    "\n",
    "    f.close()\n",
    "\n",
    "    mainfunction(True)"
   ]
  },
  {
   "cell_type": "code",
   "execution_count": 31,
   "metadata": {},
   "outputs": [],
   "source": [
    "def isArrow(k):\n",
    "    return (k == pygame.K_UP or k == pygame.K_DOWN or k == pygame.K_LEFT or k == pygame.K_RIGHT)"
   ]
  },
  {
   "cell_type": "code",
   "execution_count": 32,
   "metadata": {},
   "outputs": [],
   "source": [
    "def getrotations(k):\n",
    "    if k == pygame.K_UP:\n",
    "        return 0\n",
    "    elif k == pygame.K_DOWN:\n",
    "        return 2 \n",
    "    elif k == pygame.K_LEFT:\n",
    "        return 1\n",
    "    elif k == pygame.K_RIGHT:\n",
    "        return 3"
   ]
  },
  {
   "cell_type": "code",
   "execution_count": null,
   "metadata": {},
   "outputs": [
    {
     "ename": "TypeError",
     "evalue": "'module' object is not callable. Did you mean: 'random.random(...)'?",
     "output_type": "error",
     "traceback": [
      "\u001b[1;31m---------------------------------------------------------------------------\u001b[0m",
      "\u001b[1;31mTypeError\u001b[0m                                 Traceback (most recent call last)",
      "Cell \u001b[1;32mIn[33], line 1\u001b[0m\n\u001b[1;32m----> 1\u001b[0m \u001b[43mmainfunction\u001b[49m\u001b[43m(\u001b[49m\u001b[43m)\u001b[49m\n",
      "Cell \u001b[1;32mIn[15], line 6\u001b[0m, in \u001b[0;36mmainfunction\u001b[1;34m(fromLoaded)\u001b[0m\n\u001b[0;32m      3\u001b[0m \u001b[38;5;28;01mdef\u001b[39;00m \u001b[38;5;21mmainfunction\u001b[39m(fromLoaded \u001b[38;5;241m=\u001b[39m \u001b[38;5;28;01mFalse\u001b[39;00m):\n\u001b[0;32m      5\u001b[0m     \u001b[38;5;28;01mif\u001b[39;00m \u001b[38;5;129;01mnot\u001b[39;00m fromLoaded:\n\u001b[1;32m----> 6\u001b[0m         \u001b[43mplacerandomtile\u001b[49m\u001b[43m(\u001b[49m\u001b[43m)\u001b[49m\n\u001b[0;32m      7\u001b[0m         placerandomtile()\n\u001b[0;32m      8\u001b[0m     printmatrix()\n",
      "Cell \u001b[1;32mIn[19], line 8\u001b[0m, in \u001b[0;36mplacerandomtile\u001b[1;34m()\u001b[0m\n\u001b[0;32m      5\u001b[0m         \u001b[38;5;28;01mif\u001b[39;00m tileofmatrix[i][j] \u001b[38;5;241m==\u001b[39m \u001b[38;5;241m0\u001b[39m:\n\u001b[0;32m      6\u001b[0m             c \u001b[38;5;241m+\u001b[39m\u001b[38;5;241m=\u001b[39m \u001b[38;5;241m1\u001b[39m\n\u001b[1;32m----> 8\u001b[0m k \u001b[38;5;241m=\u001b[39m floor(\u001b[43mrandom\u001b[49m\u001b[43m(\u001b[49m\u001b[43m)\u001b[49m \u001b[38;5;241m*\u001b[39m sizeofboard\u001b[38;5;241m*\u001b[39m sizeofboard)\n\u001b[0;32m      9\u001b[0m \u001b[38;5;28mprint\u001b[39m(\u001b[38;5;124m\"\u001b[39m\u001b[38;5;124mclick\u001b[39m\u001b[38;5;124m\"\u001b[39m)\n\u001b[0;32m     11\u001b[0m \u001b[38;5;28;01mwhile\u001b[39;00m tileofmatrix[floor(k\u001b[38;5;241m/\u001b[39msizeofboard)][k\u001b[38;5;241m%\u001b[39msizeofboard] \u001b[38;5;241m!=\u001b[39m \u001b[38;5;241m0\u001b[39m:\n",
      "\u001b[1;31mTypeError\u001b[0m: 'module' object is not callable. Did you mean: 'random.random(...)'?"
     ]
    },
    {
     "ename": "",
     "evalue": "",
     "output_type": "error",
     "traceback": [
      "\u001b[1;31mThe Kernel crashed while executing code in the current cell or a previous cell. \n",
      "\u001b[1;31mPlease review the code in the cell(s) to identify a possible cause of the failure. \n",
      "\u001b[1;31mClick <a href='https://aka.ms/vscodeJupyterKernelCrash'>here</a> for more info. \n",
      "\u001b[1;31mView Jupyter <a href='command:jupyter.viewOutput'>log</a> for further details."
     ]
    }
   ],
   "source": [
    "mainfunction()"
   ]
  }
 ],
 "metadata": {
  "kernelspec": {
   "display_name": "Python 3",
   "language": "python",
   "name": "python3"
  },
  "language_info": {
   "codemirror_mode": {
    "name": "ipython",
    "version": 3
   },
   "file_extension": ".py",
   "mimetype": "text/x-python",
   "name": "python",
   "nbconvert_exporter": "python",
   "pygments_lexer": "ipython3",
   "version": "3.12.7"
  }
 },
 "nbformat": 4,
 "nbformat_minor": 2
}
